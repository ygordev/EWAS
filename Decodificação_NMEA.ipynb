{
  "nbformat": 4,
  "nbformat_minor": 0,
  "metadata": {
    "colab": {
      "name": "Decodificação-NMEA.ipynb",
      "provenance": [],
      "authorship_tag": "ABX9TyOuN8bjX4fR6e16Ltm1Dzu5",
      "include_colab_link": true
    },
    "kernelspec": {
      "name": "python3",
      "display_name": "Python 3"
    },
    "language_info": {
      "name": "python"
    }
  },
  "cells": [
    {
      "cell_type": "markdown",
      "metadata": {
        "id": "view-in-github",
        "colab_type": "text"
      },
      "source": [
        "<a href=\"https://colab.research.google.com/github/ygordev/EWAS/blob/master/Decodifica%C3%A7%C3%A3o_NMEA.ipynb\" target=\"_parent\"><img src=\"https://colab.research.google.com/assets/colab-badge.svg\" alt=\"Open In Colab\"/></a>"
      ]
    },
    {
      "cell_type": "markdown",
      "source": [
        "## DECODIFICAÇÃO DE MENSAGENS NMEA\n",
        "\n",
        "\n",
        "---\n",
        "**Por**: Ygor W. S. Moreira Lima<br>\n",
        "**Email**: contato [at] ygorml.org<br>\n",
        "**Descrição**: Parte constituinte do TCC para o Curso de Aperfeiçoamento Avançado em Guerra Eletrônica"
      ],
      "metadata": {
        "id": "ND4GlG6nU-HA"
      }
    },
    {
      "cell_type": "code",
      "execution_count": null,
      "metadata": {
        "colab": {
          "base_uri": "https://localhost:8080/"
        },
        "id": "i6x6v1DFU8Sr",
        "outputId": "6b63390e-793b-402d-c54c-5b5f174934f2"
      },
      "outputs": [
        {
          "output_type": "stream",
          "name": "stdout",
          "text": [
            "Collecting pynmea2\n",
            "  Downloading pynmea2-1.18.0-py3-none-any.whl (29 kB)\n",
            "Installing collected packages: pynmea2\n",
            "Successfully installed pynmea2-1.18.0\n"
          ]
        }
      ],
      "source": [
        "!pip install pynmea2"
      ]
    },
    {
      "cell_type": "code",
      "source": [
        "import pynmea2\n",
        "\n",
        "msg = pynmea2.parse(\"$GPGGA,184353.07,1929.045,S,02410.506,E,1,04,2.6,100.00,M,-33.9,M,,0000*6D\")"
      ],
      "metadata": {
        "id": "WFuiP3InVfP-"
      },
      "execution_count": null,
      "outputs": []
    },
    {
      "cell_type": "code",
      "source": [
        "print(\"Latitude: {}°{}\\nLongitude: {}°{}\".format(msg.lat, msg.lat_dir, msg.lon, msg.lon_dir))"
      ],
      "metadata": {
        "colab": {
          "base_uri": "https://localhost:8080/"
        },
        "id": "lokX4ZSbVsr1",
        "outputId": "b4680c57-ce7d-4280-bbdd-3b22ab40b4f4"
      },
      "execution_count": null,
      "outputs": [
        {
          "output_type": "stream",
          "name": "stdout",
          "text": [
            "Latitude: 1929.045°S\n",
            "Longitude: 02410.506°E\n"
          ]
        }
      ]
    },
    {
      "cell_type": "markdown",
      "source": [
        "## Referências\n",
        "https://github.com/Knio/pynmea2"
      ],
      "metadata": {
        "id": "Jviu7cDbXtKv"
      }
    }
  ]
}