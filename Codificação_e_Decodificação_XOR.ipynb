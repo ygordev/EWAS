{
  "nbformat": 4,
  "nbformat_minor": 0,
  "metadata": {
    "colab": {
      "name": "Codificação e Decodificação XOR.ipynb",
      "provenance": [],
      "authorship_tag": "ABX9TyOtmDlplXC+u0LEucHNDDnk",
      "include_colab_link": true
    },
    "kernelspec": {
      "name": "python3",
      "display_name": "Python 3"
    },
    "language_info": {
      "name": "python"
    }
  },
  "cells": [
    {
      "cell_type": "markdown",
      "metadata": {
        "id": "view-in-github",
        "colab_type": "text"
      },
      "source": [
        "<a href=\"https://colab.research.google.com/github/ygordev/EWAS/blob/master/Codifica%C3%A7%C3%A3o_e_Decodifica%C3%A7%C3%A3o_XOR.ipynb\" target=\"_parent\"><img src=\"https://colab.research.google.com/assets/colab-badge.svg\" alt=\"Open In Colab\"/></a>"
      ]
    },
    {
      "cell_type": "code",
      "execution_count": 35,
      "metadata": {
        "colab": {
          "base_uri": "https://localhost:8080/"
        },
        "id": "wMkoNX3Wcsqc",
        "outputId": "ed337ae2-53be-4c7e-a00e-9149e97a40c4"
      },
      "outputs": [
        {
          "output_type": "stream",
          "name": "stdout",
          "text": [
            "Dados a serem codificados (em binário): [0, 1, 0, 0, 0, 1, 1, 1, 0, 1, 0, 1, 0, 0, 0, 0, 0, 1, 0, 1, 0, 0, 1, 1]\n",
            "Codigo compartilhado (em binário): [0, 1, 1, 1, 0, 1, 1, 1, 0, 0, 0, 0, 0, 0, 0, 0, 1, 0, 1, 0, 1, 1, 0, 0]\n",
            "Sequência transmitida: [0, 0, 1, 1, 0, 0, 0, 0, 0, 1, 0, 1, 0, 0, 0, 0, 1, 1, 1, 1, 1, 1, 1, 1]\n"
          ]
        }
      ],
      "source": [
        "# A palavra GPS pode ser representada por meio da sequência binária 010001110101000001010011\n",
        "# O código compartilhado foi definido, arbitrariamente, como 011101110000000010101100\n",
        "\n",
        "plain_data = list(\"010001110101000001010011\")\n",
        "codigo = list(\"011101110000000010101100\")\n",
        "\n",
        "tx = []\n",
        "\n",
        "for i in range(len(plain_data)):\n",
        "  plain_data[i] = int(plain_data[i])\n",
        "  codigo[i] = int(codigo[i])\n",
        "\n",
        "  # O operador ^ realiza a operação lógica XOR entre os elementos de mesmo índice\n",
        "  t = plain_data[i] ^ codigo[i]\n",
        "  tx.append(t)\n",
        "\n",
        "print(\"Dados a serem codificados (em binário): {}\".format(plain_data))\n",
        "print(\"Codigo compartilhado (em binário): {}\".format(codigo))\n",
        "print(\"Sequência transmitida: {}\".format(tx))"
      ]
    },
    {
      "cell_type": "code",
      "source": [
        "rx = tx\n",
        "rx_array = []\n",
        "\n",
        "for i in range(len(rx)):\n",
        "  rx[i] = int(rx[i])\n",
        "  r = rx[i] ^ codigo[i]\n",
        "  rx_array.append(r)\n",
        "\n",
        "print(\"Sequência Recebida (em binário): {}\".format(rx))\n",
        "print(\"Informação decodificada (em binário): {}\".format(rx_array))"
      ],
      "metadata": {
        "colab": {
          "base_uri": "https://localhost:8080/"
        },
        "id": "jOrEuDE6jlTk",
        "outputId": "5c116939-b625-4471-a52f-8a61bc1e1ae7"
      },
      "execution_count": 39,
      "outputs": [
        {
          "output_type": "stream",
          "name": "stdout",
          "text": [
            "Sequência Recebida (em binário): [0, 0, 1, 1, 0, 0, 0, 0, 0, 1, 0, 1, 0, 0, 0, 0, 1, 1, 1, 1, 1, 1, 1, 1]\n",
            "Informação decodificada (em binário): [0, 1, 0, 0, 0, 1, 1, 1, 0, 1, 0, 1, 0, 0, 0, 0, 0, 1, 0, 1, 0, 0, 1, 1]\n"
          ]
        }
      ]
    },
    {
      "cell_type": "code",
      "source": [
        "for i in range(len(rx_array)):\n",
        "  rx_array[i] = str(rx_array[i])\n",
        "\n",
        "data_decoded = ''.join(rx_array)\n",
        "\n",
        "print(str(data_decoded))"
      ],
      "metadata": {
        "colab": {
          "base_uri": "https://localhost:8080/"
        },
        "id": "y6GxPLrkkguB",
        "outputId": "19dda5c6-0386-4a80-f917-7b6f217da886"
      },
      "execution_count": 41,
      "outputs": [
        {
          "output_type": "stream",
          "name": "stdout",
          "text": [
            "010001110101000001010011\n"
          ]
        }
      ]
    },
    {
      "cell_type": "code",
      "source": [
        "binary_int = int(data_decoded, 2);\n",
        "byte_number = binary_int.bit_length() + 7 // 8\n",
        "binary_array = binary_int.to_bytes(byte_number, \"big\")\n",
        "ascii_text = binary_array.decode(encoding='UTF-8', errors='ignore')\n",
        "\n",
        "print(ascii_text)\n",
        "print(binary_array)"
      ],
      "metadata": {
        "colab": {
          "base_uri": "https://localhost:8080/"
        },
        "id": "GmqMkZExqPwE",
        "outputId": "7d72b41f-0ab4-4f87-ebb2-6d655c36c674"
      },
      "execution_count": 47,
      "outputs": [
        {
          "output_type": "stream",
          "name": "stdout",
          "text": [
            "\u0000\u0000\u0000\u0000\u0000\u0000\u0000\u0000\u0000\u0000\u0000\u0000\u0000\u0000\u0000\u0000\u0000\u0000\u0000\u0000GPS\n",
            "b'\\x00\\x00\\x00\\x00\\x00\\x00\\x00\\x00\\x00\\x00\\x00\\x00\\x00\\x00\\x00\\x00\\x00\\x00\\x00\\x00GPS'\n"
          ]
        }
      ]
    }
  ]
}