{
  "nbformat": 4,
  "nbformat_minor": 0,
  "metadata": {
    "colab": {
      "name": "Codificação e Decodificação XOR.ipynb",
      "provenance": [],
      "authorship_tag": "ABX9TyO/vqc4aXVnhhe9HieoWWLQ",
      "include_colab_link": true
    },
    "kernelspec": {
      "name": "python3",
      "display_name": "Python 3"
    },
    "language_info": {
      "name": "python"
    }
  },
  "cells": [
    {
      "cell_type": "markdown",
      "metadata": {
        "id": "view-in-github",
        "colab_type": "text"
      },
      "source": [
        "<a href=\"https://colab.research.google.com/github/ygordev/EWAS/blob/master/Codifica%C3%A7%C3%A3o_e_Decodifica%C3%A7%C3%A3o_XOR.ipynb\" target=\"_parent\"><img src=\"https://colab.research.google.com/assets/colab-badge.svg\" alt=\"Open In Colab\"/></a>"
      ]
    },
    {
      "cell_type": "markdown",
      "source": [
        "## Codificação e Decodificação XOR\n",
        "\n",
        "---\n",
        "**Por**: Ygor W. S. Moreira Lima<br>\n",
        "**Email**: contato [at] ygorml.org<br>\n",
        "**Descrição**: Parte constituinte do TCC para o Curso de Aperfeiçoamento Avançado em Guerra Eletrônica\n"
      ],
      "metadata": {
        "id": "TNufFXceziqf"
      }
    },
    {
      "cell_type": "code",
      "execution_count": 29,
      "metadata": {
        "colab": {
          "base_uri": "https://localhost:8080/"
        },
        "id": "wMkoNX3Wcsqc",
        "outputId": "d15cf582-8682-43a8-d72d-ace1c42d786a"
      },
      "outputs": [
        {
          "output_type": "stream",
          "name": "stdout",
          "text": [
            "Dados a serem codificados (em binário): [0, 1, 0, 1, 0, 1, 0, 0, 0, 1, 0, 1, 1, 0, 0, 0, 0, 1, 0, 1, 0, 1, 0, 0]\n",
            "Codigo compartilhado (em binário): [1, 0, 1, 1, 0, 1, 1, 1, 0, 0, 0, 0, 0, 0, 0, 0, 1, 0, 1, 0, 1, 1, 0, 0]\n",
            "Sequência transmitida: [1, 1, 1, 0, 0, 0, 1, 1, 0, 1, 0, 1, 1, 0, 0, 0, 1, 1, 1, 1, 1, 0, 0, 0]\n"
          ]
        }
      ],
      "source": [
        "# A palavra GPS pode ser representada por meio da sequência binária 010001110101000001010011\n",
        "# O código compartilhado foi definido, arbitrariamente, como 101101110000000010101100\n",
        "\n",
        "data = \"GPS\"\n",
        "\n",
        "# Conversão da variável data para um array binário, de tamanho 24 bits \n",
        "data = ''.join(f'{b:08b}' for b in data.encode(\"latin-1\"))\n",
        "plain_data = list(data) # Palavra GPS em binário\n",
        "\n",
        "# Conversão do código em um array binário, de tamanho 24 bits \n",
        "codigo = list(\"101101110000000010101100\") # Código\n",
        "\n",
        "# Inicialização de um array vazio\n",
        "tx = []\n",
        "\n",
        "# Percorrendo os itens de mesmo índice de plain_data e codigo e convertendo para o tipo inteiro\n",
        "for i in range(len(plain_data)):\n",
        "  plain_data[i] = int(plain_data[i])\n",
        "  codigo[i] = int(codigo[i])\n",
        "\n",
        "  # O operador ^ realiza a operação lógica XOR entre os elementos de mesmo índice\n",
        "  t = plain_data[i] ^ codigo[i]\n",
        "\n",
        "  # O valor da operação XOR é adicionado a lista 'tx'\n",
        "  tx.append(t)\n",
        "\n",
        "print(\"Dados a serem codificados (em binário): {}\".format(plain_data))\n",
        "print(\"Codigo compartilhado (em binário): {}\".format(codigo))\n",
        "print(\"Sequência transmitida: {}\".format(tx))"
      ]
    },
    {
      "cell_type": "code",
      "source": [
        "# Considerando que não há erros na decodificação do sinal transmitido, \n",
        "# O sinal recebido é igual ao sinal transmitido\n",
        "\n",
        "rx = tx\n",
        "\n",
        "# Inicializando um array vazio\n",
        "rx_array = []\n",
        "\n",
        "# Convertendo os valores em rx para o tipo de dados string\n",
        "for i in range(len(rx)):\n",
        "  rx[i] = str(rx[i])\n",
        "\n",
        "# Unindo os valores da lista rx em uma única string\n",
        "rx_string = ''.join(rx)\n",
        "\n",
        "# Convertendo novamente os tipos de dados da lista rx para inteiro\n",
        "for i in range(len(rx)):\n",
        "  rx[i] = int(rx[i])\n",
        "\n",
        "  # Aqui é realizada a operação XOR entre o sinal recebido e o código compartilhado entre o receptor e o transmissor\n",
        "  r = rx[i] ^ codigo[i]\n",
        "\n",
        "  # É adicionado o resultado da operação XOR a lista rx_array\n",
        "  rx_array.append(r)\n",
        "\n",
        "# Apresentação dos dados recebidos\n",
        "print(\"Sequência Recebida (em binário): {}\".format(rx))\n",
        "print(\"Sequência Recebida (string binária): {}\".format(rx_string))\n",
        "\n",
        "# Unindo o resultado da operação em uma única string\n",
        "for i in range(len(rx_array)):\n",
        "  rx_array[i] = str(rx_array[i])\n",
        "data_decoded = ''.join(rx_array)\n",
        "\n",
        "# Apresentação dos dados decodificados\n",
        "print(\"Informação decodificada (em binário): {}\".format(rx_array))\n",
        "print(\"Informação decodificada (string binária): {}\".format(str(data_decoded)))"
      ],
      "metadata": {
        "colab": {
          "base_uri": "https://localhost:8080/"
        },
        "id": "jOrEuDE6jlTk",
        "outputId": "9c751c27-39e2-44d8-fb7b-8e5d51c6cb12"
      },
      "execution_count": 30,
      "outputs": [
        {
          "output_type": "stream",
          "name": "stdout",
          "text": [
            "Sequência Recebida (em binário): [1, 1, 1, 0, 0, 0, 1, 1, 0, 1, 0, 1, 1, 0, 0, 0, 1, 1, 1, 1, 1, 0, 0, 0]\n",
            "Sequência Recebida (string binária): 111000110101100011111000\n",
            "Informação decodificada (em binário): ['0', '1', '0', '1', '0', '1', '0', '0', '0', '1', '0', '1', '1', '0', '0', '0', '0', '1', '0', '1', '0', '1', '0', '0']\n",
            "Informação decodificada (string binária): 010101000101100001010100\n"
          ]
        }
      ]
    },
    {
      "cell_type": "code",
      "source": [
        "# Conversão dos dados decodificados (em formato binário) para ASCII (caracteres inteligíveis)\n",
        "\n",
        "binary_int = int(data_decoded, 2);\n",
        "byte_number = binary_int.bit_length() + 7 // 8\n",
        "binary_array = binary_int.to_bytes(byte_number, \"big\")\n",
        "ascii_text = binary_array.decode(encoding='UTF-8', errors='ignore')\n",
        "ascii_text = ascii_text.replace('\\x00', '')\n",
        "\n",
        "print(ascii_text)"
      ],
      "metadata": {
        "colab": {
          "base_uri": "https://localhost:8080/"
        },
        "id": "GmqMkZExqPwE",
        "outputId": "49e76185-e169-43a6-edab-c665784ad872"
      },
      "execution_count": 31,
      "outputs": [
        {
          "output_type": "stream",
          "name": "stdout",
          "text": [
            "TXT\n"
          ]
        }
      ]
    }
  ]
}